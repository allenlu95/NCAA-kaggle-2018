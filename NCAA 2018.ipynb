{
 "cells": [
  {
   "cell_type": "code",
   "execution_count": 265,
   "metadata": {},
   "outputs": [
    {
     "name": "stdout",
     "output_type": "stream",
     "text": [
      "Cities.csv\n",
      "ConferenceTourneyGames.csv\n",
      "Conferences.csv\n",
      "GameCities.csv\n",
      "NCAATourneyCompactResults.csv\n",
      "NCAATourneyDetailedResults.csv\n",
      "NCAATourneySeedRoundSlots.csv\n",
      "NCAATourneySeeds.csv\n",
      "NCAATourneySlots.csv\n",
      "RegularSeasonCompactResults.csv\n",
      "RegularSeasonDetailedResults.csv\n",
      "SampleSubmissionStage1.csv\n",
      "Seasons.csv\n",
      "SecondaryTourneyCompactResults.csv\n",
      "SecondaryTourneyTeams.csv\n",
      "TeamCoaches.csv\n",
      "TeamConferences.csv\n",
      "TeamSpellings.csv\n",
      "Teams.csv\n",
      "\n"
     ]
    }
   ],
   "source": [
    "\n",
    "import numpy as np # linear algebra\n",
    "import pandas as pd # data processing, CSV file I/O (e.g. pd.read_csv)\n",
    "from sklearn.linear_model import LogisticRegression\n",
    "import matplotlib.pyplot as plt\n",
    "from sklearn.utils import shuffle\n",
    "from sklearn.model_selection import GridSearchCV\n",
    "\n",
    "# Input data files are available in the \"../input/\" directory.\n",
    "# For example, running this (by clicking run or pressing Shift+Enter) will list the files in the input directory\n",
    "\n",
    "from subprocess import check_output\n",
    "print(check_output([\"ls\", \"../NCAA/DataFiles\"]).decode(\"utf8\"))\n",
    "\n",
    "# Any results you write to the current directory are saved as output."
   ]
  },
  {
   "cell_type": "markdown",
   "metadata": {},
   "source": [
    "Pipeline: Merge everything a"
   ]
  },
  {
   "cell_type": "code",
   "execution_count": 266,
   "metadata": {
    "collapsed": true
   },
   "outputs": [],
   "source": [
    "def seed_to_int(seed):\n",
    "    #Get just the digits from the seeding. Return as int\n",
    "    s_int = int(seed[1:3])\n",
    "    return s_int\n"
   ]
  },
  {
   "cell_type": "markdown",
   "metadata": {},
   "source": [
    "# Get features you want for each team"
   ]
  },
  {
   "cell_type": "code",
   "execution_count": 267,
   "metadata": {
    "collapsed": true
   },
   "outputs": [],
   "source": [
    "def merge_features(df,feature_list):\n",
    "    '''\n",
    "    Input: dataframe which contains Season and TeamID (ex. input df_seeds), list of dataframes with features \n",
    "    Output: dataframe with merged features\n",
    "    '''\n",
    "    for feature in feature_list:\n",
    "        if 'Season' in feature.columns:\n",
    "            df = pd.merge(left = df, right = feature, how = 'left', on = ['Season', 'TeamID'])\n",
    "        else:\n",
    "            df = pd.merge(left = df, right = feature, how = 'left', on = ['TeamID'])\n",
    "    return df"
   ]
  },
  {
   "cell_type": "markdown",
   "metadata": {},
   "source": [
    "# Combine features with Team1 and Team2"
   ]
  },
  {
   "cell_type": "code",
   "execution_count": 268,
   "metadata": {
    "collapsed": true
   },
   "outputs": [],
   "source": [
    "def get_features(df_merge,df_team):\n",
    "    '''\n",
    "    Input:  dataframe from merge_features, dataframe which contains team1, team2, and year'''\n",
    "    df_1 = df_merge.rename(columns={'TeamID':'Team1'})\n",
    "    df_2 = df_merge.rename(columns={'TeamID':'Team2'})\n",
    "    df_dummy = pd.merge(left=df_team, right=df_1, how='left', on=['Season', 'Team1'])\n",
    "    df_concat = pd.merge(left=df_dummy, right=df_2, on=['Season', 'Team2'])\n",
    "    return df_concat"
   ]
  },
  {
   "cell_type": "code",
   "execution_count": 269,
   "metadata": {
    "collapsed": true
   },
   "outputs": [],
   "source": [
    "def change_for_training(df_team):\n",
    "    df_team = df_team.rename(columns = {'WTeamID': 'Team1','LTeamID':'Team2'})\n",
    "    return df_team"
   ]
  },
  {
   "cell_type": "markdown",
   "metadata": {},
   "source": [
    "# Feature engineering"
   ]
  },
  {
   "cell_type": "code",
   "execution_count": 270,
   "metadata": {
    "collapsed": true
   },
   "outputs": [],
   "source": [
    "def get_seed_diff(df_final):\n",
    "    df_final['SeedDiff'] = df_final['Seed_x']-df_final['Seed_y']\n",
    "    df_final = df_final.drop(['Seed_x','Seed_y'],axis=1)\n",
    "    return df_final\n",
    "def D1diff(df):\n",
    "    df['D1diff'] = df['FirstD1Season_x']-df['FirstD1Season_y']\n",
    "    df = df.drop(['FirstD1Season_x','FirstD1Season_y'], axis=1)\n",
    "    return df"
   ]
  },
  {
   "cell_type": "markdown",
   "metadata": {},
   "source": [
    "# Training features"
   ]
  },
  {
   "cell_type": "code",
   "execution_count": 271,
   "metadata": {
    "collapsed": true
   },
   "outputs": [],
   "source": [
    "def get_predictions(df, features):\n",
    "    '''\n",
    "    input: dataframe of training dataset with all features, list of specific features we want from training data\n",
    "    output: dataframe for training data\n",
    "    '''\n",
    "    df_wins = df[features]\n",
    "    df_wins['Result'] = 1\n",
    "    df_losses = df[features]\n",
    "    df_losses['SeedDiff'] = -df['SeedDiff']\n",
    "    df_losses['Result'] = 0\n",
    "    df_predictions = pd.concat((df_wins, df_losses))\n",
    "    return df_predictions"
   ]
  },
  {
   "cell_type": "markdown",
   "metadata": {},
   "source": [
    "Idea: Get features of training data in a similar fashion as test data, and just join the one datasets with inner join"
   ]
  },
  {
   "cell_type": "code",
   "execution_count": 272,
   "metadata": {
    "collapsed": true
   },
   "outputs": [],
   "source": [
    "data_dir = '../NCAA/DataFiles/'\n",
    "df_seeds = pd.read_csv(data_dir + 'NCAATourneySeeds.csv')\n",
    "df_tour = pd.read_csv(data_dir + 'NCAATourneyCompactResults.csv')\n",
    "df_conferences = pd.read_csv(data_dir + \"TeamConferences.csv\")\n",
    "df_coaches = pd.read_csv(data_dir + \"TeamCoaches.csv\")\n",
    "df_firstd1season = pd.read_csv(data_dir + \"Teams.csv\")\n"
   ]
  },
  {
   "cell_type": "code",
   "execution_count": 273,
   "metadata": {},
   "outputs": [
    {
     "data": {
      "text/plain": [
       "True"
      ]
     },
     "execution_count": 273,
     "metadata": {},
     "output_type": "execute_result"
    }
   ],
   "source": [
    "'Season' in df_conferences.columns"
   ]
  },
  {
   "cell_type": "code",
   "execution_count": 274,
   "metadata": {
    "collapsed": true
   },
   "outputs": [],
   "source": [
    "df_seeds['Seed'] = df_seeds.Seed.apply(seed_to_int)\n",
    "feature_list = [df_conferences, df_firstd1season]\n",
    "df_team = change_for_training(df_tour)"
   ]
  },
  {
   "cell_type": "code",
   "execution_count": 275,
   "metadata": {},
   "outputs": [],
   "source": [
    "df_merge = merge_features(df_seeds,feature_list)\n",
    "df_concat = get_features(df_merge,df_team)\n",
    "\n",
    "\n",
    "df_concat = df_concat.pipe(get_seed_diff).pipe(D1diff)"
   ]
  },
  {
   "cell_type": "code",
   "execution_count": 276,
   "metadata": {},
   "outputs": [
    {
     "data": {
      "text/html": [
       "<div>\n",
       "<style>\n",
       "    .dataframe thead tr:only-child th {\n",
       "        text-align: right;\n",
       "    }\n",
       "\n",
       "    .dataframe thead th {\n",
       "        text-align: left;\n",
       "    }\n",
       "\n",
       "    .dataframe tbody tr th {\n",
       "        vertical-align: top;\n",
       "    }\n",
       "</style>\n",
       "<table border=\"1\" class=\"dataframe\">\n",
       "  <thead>\n",
       "    <tr style=\"text-align: right;\">\n",
       "      <th></th>\n",
       "      <th>Season</th>\n",
       "      <th>Seed</th>\n",
       "      <th>TeamID</th>\n",
       "    </tr>\n",
       "  </thead>\n",
       "  <tbody>\n",
       "    <tr>\n",
       "      <th>0</th>\n",
       "      <td>1985</td>\n",
       "      <td>1</td>\n",
       "      <td>1207</td>\n",
       "    </tr>\n",
       "    <tr>\n",
       "      <th>1</th>\n",
       "      <td>1985</td>\n",
       "      <td>2</td>\n",
       "      <td>1210</td>\n",
       "    </tr>\n",
       "    <tr>\n",
       "      <th>2</th>\n",
       "      <td>1985</td>\n",
       "      <td>3</td>\n",
       "      <td>1228</td>\n",
       "    </tr>\n",
       "    <tr>\n",
       "      <th>3</th>\n",
       "      <td>1985</td>\n",
       "      <td>4</td>\n",
       "      <td>1260</td>\n",
       "    </tr>\n",
       "    <tr>\n",
       "      <th>4</th>\n",
       "      <td>1985</td>\n",
       "      <td>5</td>\n",
       "      <td>1374</td>\n",
       "    </tr>\n",
       "  </tbody>\n",
       "</table>\n",
       "</div>"
      ],
      "text/plain": [
       "   Season  Seed  TeamID\n",
       "0    1985     1    1207\n",
       "1    1985     2    1210\n",
       "2    1985     3    1228\n",
       "3    1985     4    1260\n",
       "4    1985     5    1374"
      ]
     },
     "execution_count": 276,
     "metadata": {},
     "output_type": "execute_result"
    }
   ],
   "source": [
    "df_seeds.head()"
   ]
  },
  {
   "cell_type": "code",
   "execution_count": 277,
   "metadata": {
    "collapsed": true
   },
   "outputs": [],
   "source": [
    "winners = df_concat.rename( columns = { 'WTeamID' : 'TeamID1', 'LTeamID' : 'TeamID2'})\n",
    "winners['Result'] = 1.0\n",
    "\n",
    "losers = df_concat.rename( columns = { 'WTeamID' : 'TeamID2', 'LTeamID' : 'TeamID1'})\n",
    "losers['Result'] = 0.0\n",
    "losers['D1diff'] = winners['D1diff']*-1\n",
    "losers['SeedDiff'] = df_concat['SeedDiff']*-1\n",
    "\n",
    "train = pd.concat( [winners, losers], axis = 0).reset_index(drop = True)\n",
    "\n"
   ]
  },
  {
   "cell_type": "code",
   "execution_count": 278,
   "metadata": {
    "collapsed": true
   },
   "outputs": [],
   "source": [
    "pre_train = train[['SeedDiff','Result','D1diff']]\n",
    "#'D1diff',"
   ]
  },
  {
   "cell_type": "code",
   "execution_count": 279,
   "metadata": {},
   "outputs": [
    {
     "data": {
      "text/html": [
       "<div>\n",
       "<style>\n",
       "    .dataframe thead tr:only-child th {\n",
       "        text-align: right;\n",
       "    }\n",
       "\n",
       "    .dataframe thead th {\n",
       "        text-align: left;\n",
       "    }\n",
       "\n",
       "    .dataframe tbody tr th {\n",
       "        vertical-align: top;\n",
       "    }\n",
       "</style>\n",
       "<table border=\"1\" class=\"dataframe\">\n",
       "  <thead>\n",
       "    <tr style=\"text-align: right;\">\n",
       "      <th></th>\n",
       "      <th>SeedDiff</th>\n",
       "      <th>Result</th>\n",
       "      <th>D1diff</th>\n",
       "    </tr>\n",
       "  </thead>\n",
       "  <tbody>\n",
       "    <tr>\n",
       "      <th>0</th>\n",
       "      <td>1</td>\n",
       "      <td>1.0</td>\n",
       "      <td>0</td>\n",
       "    </tr>\n",
       "    <tr>\n",
       "      <th>1</th>\n",
       "      <td>5</td>\n",
       "      <td>1.0</td>\n",
       "      <td>0</td>\n",
       "    </tr>\n",
       "    <tr>\n",
       "      <th>2</th>\n",
       "      <td>-15</td>\n",
       "      <td>1.0</td>\n",
       "      <td>0</td>\n",
       "    </tr>\n",
       "    <tr>\n",
       "      <th>3</th>\n",
       "      <td>1</td>\n",
       "      <td>1.0</td>\n",
       "      <td>0</td>\n",
       "    </tr>\n",
       "    <tr>\n",
       "      <th>4</th>\n",
       "      <td>-11</td>\n",
       "      <td>1.0</td>\n",
       "      <td>0</td>\n",
       "    </tr>\n",
       "  </tbody>\n",
       "</table>\n",
       "</div>"
      ],
      "text/plain": [
       "   SeedDiff  Result  D1diff\n",
       "0         1     1.0       0\n",
       "1         5     1.0       0\n",
       "2       -15     1.0       0\n",
       "3         1     1.0       0\n",
       "4       -11     1.0       0"
      ]
     },
     "execution_count": 279,
     "metadata": {},
     "output_type": "execute_result"
    }
   ],
   "source": [
    "pre_train.head()"
   ]
  },
  {
   "cell_type": "code",
   "execution_count": 280,
   "metadata": {
    "collapsed": true
   },
   "outputs": [],
   "source": [
    "X_train = pre_train.drop('Result',axis=1).values\n",
    "y_train = pre_train.Result.values\n",
    "X_train, y_train = shuffle(X_train, y_train)"
   ]
  },
  {
   "cell_type": "code",
   "execution_count": 281,
   "metadata": {},
   "outputs": [
    {
     "name": "stdout",
     "output_type": "stream",
     "text": [
      "Best log_loss: -0.5532, with best C: 0.01\n"
     ]
    }
   ],
   "source": [
    "logreg = LogisticRegression()\n",
    "params = {'C': np.logspace(start=-5, stop=3, num=9)}\n",
    "clf = GridSearchCV(logreg, params, scoring='neg_log_loss', refit=True)\n",
    "clf.fit(X_train, y_train)\n",
    "print('Best log_loss: {:.4}, with best C: {}'.format(clf.best_score_, clf.best_params_['C']))"
   ]
  },
  {
   "cell_type": "markdown",
   "metadata": {},
   "source": [
    "## Merge seed for each team\n",
    "Merge the Seeds with their corresponding TeamIDs in the compact results dataframe."
   ]
  },
  {
   "cell_type": "markdown",
   "metadata": {},
   "source": [
    "# Test set"
   ]
  },
  {
   "cell_type": "code",
   "execution_count": 282,
   "metadata": {
    "collapsed": true
   },
   "outputs": [],
   "source": [
    "df_sample_sub = pd.read_csv(data_dir + 'SampleSubmissionStage1.csv')\n",
    "df_sample_sub['Season'] = df_sample_sub['ID'].apply(lambda x : int(x.split('_')[0]) )\n",
    "df_sample_sub['Team1'] = df_sample_sub['ID'].apply(lambda x : int(x.split('_')[1]) )\n",
    "df_sample_sub['Team2'] = df_sample_sub['ID'].apply(lambda x : int(x.split('_')[2]) )"
   ]
  },
  {
   "cell_type": "code",
   "execution_count": 283,
   "metadata": {},
   "outputs": [
    {
     "data": {
      "text/html": [
       "<div>\n",
       "<style>\n",
       "    .dataframe thead tr:only-child th {\n",
       "        text-align: right;\n",
       "    }\n",
       "\n",
       "    .dataframe thead th {\n",
       "        text-align: left;\n",
       "    }\n",
       "\n",
       "    .dataframe tbody tr th {\n",
       "        vertical-align: top;\n",
       "    }\n",
       "</style>\n",
       "<table border=\"1\" class=\"dataframe\">\n",
       "  <thead>\n",
       "    <tr style=\"text-align: right;\">\n",
       "      <th></th>\n",
       "      <th>ID</th>\n",
       "      <th>Pred</th>\n",
       "      <th>Season</th>\n",
       "      <th>Team1</th>\n",
       "      <th>Team2</th>\n",
       "      <th>ConfAbbrev_x</th>\n",
       "      <th>TeamName_x</th>\n",
       "      <th>LastD1Season_x</th>\n",
       "      <th>ConfAbbrev_y</th>\n",
       "      <th>TeamName_y</th>\n",
       "      <th>LastD1Season_y</th>\n",
       "      <th>SeedDiff</th>\n",
       "      <th>D1diff</th>\n",
       "    </tr>\n",
       "  </thead>\n",
       "  <tbody>\n",
       "    <tr>\n",
       "      <th>0</th>\n",
       "      <td>2014_1107_1110</td>\n",
       "      <td>0.5</td>\n",
       "      <td>2014</td>\n",
       "      <td>1107</td>\n",
       "      <td>1110</td>\n",
       "      <td>aec</td>\n",
       "      <td>Albany NY</td>\n",
       "      <td>2018</td>\n",
       "      <td>patriot</td>\n",
       "      <td>American Univ</td>\n",
       "      <td>2018</td>\n",
       "      <td>1</td>\n",
       "      <td>15</td>\n",
       "    </tr>\n",
       "    <tr>\n",
       "      <th>1</th>\n",
       "      <td>2014_1107_1112</td>\n",
       "      <td>0.5</td>\n",
       "      <td>2014</td>\n",
       "      <td>1107</td>\n",
       "      <td>1112</td>\n",
       "      <td>aec</td>\n",
       "      <td>Albany NY</td>\n",
       "      <td>2018</td>\n",
       "      <td>pac_twelve</td>\n",
       "      <td>Arizona</td>\n",
       "      <td>2018</td>\n",
       "      <td>15</td>\n",
       "      <td>15</td>\n",
       "    </tr>\n",
       "    <tr>\n",
       "      <th>2</th>\n",
       "      <td>2014_1110_1112</td>\n",
       "      <td>0.5</td>\n",
       "      <td>2014</td>\n",
       "      <td>1110</td>\n",
       "      <td>1112</td>\n",
       "      <td>patriot</td>\n",
       "      <td>American Univ</td>\n",
       "      <td>2018</td>\n",
       "      <td>pac_twelve</td>\n",
       "      <td>Arizona</td>\n",
       "      <td>2018</td>\n",
       "      <td>14</td>\n",
       "      <td>0</td>\n",
       "    </tr>\n",
       "    <tr>\n",
       "      <th>3</th>\n",
       "      <td>2014_1107_1113</td>\n",
       "      <td>0.5</td>\n",
       "      <td>2014</td>\n",
       "      <td>1107</td>\n",
       "      <td>1113</td>\n",
       "      <td>aec</td>\n",
       "      <td>Albany NY</td>\n",
       "      <td>2018</td>\n",
       "      <td>pac_twelve</td>\n",
       "      <td>Arizona St</td>\n",
       "      <td>2018</td>\n",
       "      <td>6</td>\n",
       "      <td>15</td>\n",
       "    </tr>\n",
       "    <tr>\n",
       "      <th>4</th>\n",
       "      <td>2014_1110_1113</td>\n",
       "      <td>0.5</td>\n",
       "      <td>2014</td>\n",
       "      <td>1110</td>\n",
       "      <td>1113</td>\n",
       "      <td>patriot</td>\n",
       "      <td>American Univ</td>\n",
       "      <td>2018</td>\n",
       "      <td>pac_twelve</td>\n",
       "      <td>Arizona St</td>\n",
       "      <td>2018</td>\n",
       "      <td>5</td>\n",
       "      <td>0</td>\n",
       "    </tr>\n",
       "  </tbody>\n",
       "</table>\n",
       "</div>"
      ],
      "text/plain": [
       "               ID  Pred  Season  Team1  Team2 ConfAbbrev_x     TeamName_x  \\\n",
       "0  2014_1107_1110   0.5    2014   1107   1110          aec      Albany NY   \n",
       "1  2014_1107_1112   0.5    2014   1107   1112          aec      Albany NY   \n",
       "2  2014_1110_1112   0.5    2014   1110   1112      patriot  American Univ   \n",
       "3  2014_1107_1113   0.5    2014   1107   1113          aec      Albany NY   \n",
       "4  2014_1110_1113   0.5    2014   1110   1113      patriot  American Univ   \n",
       "\n",
       "   LastD1Season_x ConfAbbrev_y     TeamName_y  LastD1Season_y  SeedDiff  \\\n",
       "0            2018      patriot  American Univ            2018         1   \n",
       "1            2018   pac_twelve        Arizona            2018        15   \n",
       "2            2018   pac_twelve        Arizona            2018        14   \n",
       "3            2018   pac_twelve     Arizona St            2018         6   \n",
       "4            2018   pac_twelve     Arizona St            2018         5   \n",
       "\n",
       "   D1diff  \n",
       "0      15  \n",
       "1      15  \n",
       "2       0  \n",
       "3      15  \n",
       "4       0  "
      ]
     },
     "execution_count": 283,
     "metadata": {},
     "output_type": "execute_result"
    }
   ],
   "source": [
    "#Merging important features\n",
    "\n",
    "df_concat_test = get_features(df_merge,df_sample_sub)\n",
    "\n",
    "#Feature engineering\n",
    "\n",
    "df_concat_test = df_concat_test.pipe(get_seed_diff).pipe(D1diff)\n",
    "\n",
    "df_concat_test.head()"
   ]
  },
  {
   "cell_type": "code",
   "execution_count": 284,
   "metadata": {},
   "outputs": [],
   "source": [
    "features = ['ID','SeedDiff','D1diff']\n",
    "\n",
    "#'D1diff',\n",
    "X_pre_test = df_concat_test[features]"
   ]
  },
  {
   "cell_type": "code",
   "execution_count": 285,
   "metadata": {},
   "outputs": [
    {
     "data": {
      "text/html": [
       "<div>\n",
       "<style>\n",
       "    .dataframe thead tr:only-child th {\n",
       "        text-align: right;\n",
       "    }\n",
       "\n",
       "    .dataframe thead th {\n",
       "        text-align: left;\n",
       "    }\n",
       "\n",
       "    .dataframe tbody tr th {\n",
       "        vertical-align: top;\n",
       "    }\n",
       "</style>\n",
       "<table border=\"1\" class=\"dataframe\">\n",
       "  <thead>\n",
       "    <tr style=\"text-align: right;\">\n",
       "      <th></th>\n",
       "      <th>SeedDiff</th>\n",
       "      <th>D1diff</th>\n",
       "    </tr>\n",
       "  </thead>\n",
       "  <tbody>\n",
       "    <tr>\n",
       "      <th>0</th>\n",
       "      <td>1</td>\n",
       "      <td>15</td>\n",
       "    </tr>\n",
       "    <tr>\n",
       "      <th>1</th>\n",
       "      <td>15</td>\n",
       "      <td>15</td>\n",
       "    </tr>\n",
       "    <tr>\n",
       "      <th>2</th>\n",
       "      <td>6</td>\n",
       "      <td>15</td>\n",
       "    </tr>\n",
       "    <tr>\n",
       "      <th>3</th>\n",
       "      <td>10</td>\n",
       "      <td>15</td>\n",
       "    </tr>\n",
       "    <tr>\n",
       "      <th>4</th>\n",
       "      <td>6</td>\n",
       "      <td>15</td>\n",
       "    </tr>\n",
       "  </tbody>\n",
       "</table>\n",
       "</div>"
      ],
      "text/plain": [
       "   SeedDiff  D1diff\n",
       "0         1      15\n",
       "1        15      15\n",
       "2         6      15\n",
       "3        10      15\n",
       "4         6      15"
      ]
     },
     "execution_count": 285,
     "metadata": {},
     "output_type": "execute_result"
    }
   ],
   "source": [
    "X_test = pd.merge(left = df_sample_sub, right = X_pre_test, how = 'inner', on ='ID')[features[1:]]\n",
    "\n",
    "X_test.head()"
   ]
  },
  {
   "cell_type": "markdown",
   "metadata": {},
   "source": [
    "# Predict on Test set"
   ]
  },
  {
   "cell_type": "code",
   "execution_count": 286,
   "metadata": {},
   "outputs": [
    {
     "data": {
      "text/html": [
       "<div>\n",
       "<style>\n",
       "    .dataframe thead tr:only-child th {\n",
       "        text-align: right;\n",
       "    }\n",
       "\n",
       "    .dataframe thead th {\n",
       "        text-align: left;\n",
       "    }\n",
       "\n",
       "    .dataframe tbody tr th {\n",
       "        vertical-align: top;\n",
       "    }\n",
       "</style>\n",
       "<table border=\"1\" class=\"dataframe\">\n",
       "  <thead>\n",
       "    <tr style=\"text-align: right;\">\n",
       "      <th></th>\n",
       "      <th>ID</th>\n",
       "      <th>Pred</th>\n",
       "      <th>Season</th>\n",
       "      <th>Team1</th>\n",
       "      <th>Team2</th>\n",
       "    </tr>\n",
       "  </thead>\n",
       "  <tbody>\n",
       "    <tr>\n",
       "      <th>0</th>\n",
       "      <td>2014_1107_1110</td>\n",
       "      <td>0.425035</td>\n",
       "      <td>2014</td>\n",
       "      <td>1107</td>\n",
       "      <td>1110</td>\n",
       "    </tr>\n",
       "    <tr>\n",
       "      <th>1</th>\n",
       "      <td>2014_1107_1112</td>\n",
       "      <td>0.066995</td>\n",
       "      <td>2014</td>\n",
       "      <td>1107</td>\n",
       "      <td>1112</td>\n",
       "    </tr>\n",
       "    <tr>\n",
       "      <th>2</th>\n",
       "      <td>2014_1107_1113</td>\n",
       "      <td>0.243264</td>\n",
       "      <td>2014</td>\n",
       "      <td>1107</td>\n",
       "      <td>1113</td>\n",
       "    </tr>\n",
       "    <tr>\n",
       "      <th>3</th>\n",
       "      <td>2014_1107_1124</td>\n",
       "      <td>0.141723</td>\n",
       "      <td>2014</td>\n",
       "      <td>1107</td>\n",
       "      <td>1124</td>\n",
       "    </tr>\n",
       "    <tr>\n",
       "      <th>4</th>\n",
       "      <td>2014_1107_1140</td>\n",
       "      <td>0.243264</td>\n",
       "      <td>2014</td>\n",
       "      <td>1107</td>\n",
       "      <td>1140</td>\n",
       "    </tr>\n",
       "  </tbody>\n",
       "</table>\n",
       "</div>"
      ],
      "text/plain": [
       "               ID      Pred  Season  Team1  Team2\n",
       "0  2014_1107_1110  0.425035    2014   1107   1110\n",
       "1  2014_1107_1112  0.066995    2014   1107   1112\n",
       "2  2014_1107_1113  0.243264    2014   1107   1113\n",
       "3  2014_1107_1124  0.141723    2014   1107   1124\n",
       "4  2014_1107_1140  0.243264    2014   1107   1140"
      ]
     },
     "execution_count": 286,
     "metadata": {},
     "output_type": "execute_result"
    }
   ],
   "source": [
    "preds = clf.predict_proba(X_test.values)[:,1]\n",
    "\n",
    "clipped_preds = np.clip(preds, 0.05, 0.95)\n",
    "df_sample_sub['Pred'] = clipped_preds\n",
    "df_sample_sub.head()"
   ]
  },
  {
   "cell_type": "code",
   "execution_count": 287,
   "metadata": {},
   "outputs": [],
   "source": [
    "df_sample_sub = df_sample_sub.drop(['Season','Team1','Team2'],axis=1)"
   ]
  },
  {
   "cell_type": "code",
   "execution_count": 288,
   "metadata": {
    "collapsed": true
   },
   "outputs": [],
   "source": [
    "df_sample_sub.to_csv('logreg_seed_starter.csv', index=False)"
   ]
  },
  {
   "cell_type": "code",
   "execution_count": 289,
   "metadata": {},
   "outputs": [
    {
     "data": {
      "text/html": [
       "<div>\n",
       "<style>\n",
       "    .dataframe thead tr:only-child th {\n",
       "        text-align: right;\n",
       "    }\n",
       "\n",
       "    .dataframe thead th {\n",
       "        text-align: left;\n",
       "    }\n",
       "\n",
       "    .dataframe tbody tr th {\n",
       "        vertical-align: top;\n",
       "    }\n",
       "</style>\n",
       "<table border=\"1\" class=\"dataframe\">\n",
       "  <thead>\n",
       "    <tr style=\"text-align: right;\">\n",
       "      <th></th>\n",
       "      <th>ID</th>\n",
       "      <th>Pred</th>\n",
       "    </tr>\n",
       "  </thead>\n",
       "  <tbody>\n",
       "    <tr>\n",
       "      <th>0</th>\n",
       "      <td>2014_1107_1110</td>\n",
       "      <td>0.425035</td>\n",
       "    </tr>\n",
       "    <tr>\n",
       "      <th>1</th>\n",
       "      <td>2014_1107_1112</td>\n",
       "      <td>0.066995</td>\n",
       "    </tr>\n",
       "    <tr>\n",
       "      <th>2</th>\n",
       "      <td>2014_1107_1113</td>\n",
       "      <td>0.243264</td>\n",
       "    </tr>\n",
       "    <tr>\n",
       "      <th>3</th>\n",
       "      <td>2014_1107_1124</td>\n",
       "      <td>0.141723</td>\n",
       "    </tr>\n",
       "    <tr>\n",
       "      <th>4</th>\n",
       "      <td>2014_1107_1140</td>\n",
       "      <td>0.243264</td>\n",
       "    </tr>\n",
       "  </tbody>\n",
       "</table>\n",
       "</div>"
      ],
      "text/plain": [
       "               ID      Pred\n",
       "0  2014_1107_1110  0.425035\n",
       "1  2014_1107_1112  0.066995\n",
       "2  2014_1107_1113  0.243264\n",
       "3  2014_1107_1124  0.141723\n",
       "4  2014_1107_1140  0.243264"
      ]
     },
     "execution_count": 289,
     "metadata": {},
     "output_type": "execute_result"
    }
   ],
   "source": [
    "df_sample_sub.head()"
   ]
  },
  {
   "cell_type": "code",
   "execution_count": null,
   "metadata": {
    "collapsed": true
   },
   "outputs": [],
   "source": []
  },
  {
   "cell_type": "code",
   "execution_count": null,
   "metadata": {
    "collapsed": true
   },
   "outputs": [],
   "source": []
  }
 ],
 "metadata": {
  "kernelspec": {
   "display_name": "Python 3",
   "language": "python",
   "name": "python3"
  },
  "language_info": {
   "codemirror_mode": {
    "name": "ipython",
    "version": 3
   },
   "file_extension": ".py",
   "mimetype": "text/x-python",
   "name": "python",
   "nbconvert_exporter": "python",
   "pygments_lexer": "ipython3",
   "version": "3.6.3"
  }
 },
 "nbformat": 4,
 "nbformat_minor": 2
}
