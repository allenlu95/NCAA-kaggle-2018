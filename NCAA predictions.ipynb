{
 "cells": [
  {
   "cell_type": "code",
   "execution_count": 118,
   "metadata": {
    "collapsed": true
   },
   "outputs": [],
   "source": [
    "import numpy as np # linear algebra\n",
    "import pandas as pd # data processing, CSV file I/O (e.g. pd.read_csv)\n",
    "from sklearn.linear_model import LogisticRegression\n",
    "from sklearn.ensemble import RandomForestClassifier\n",
    "import matplotlib.pyplot as plt\n",
    "from sklearn.utils import shuffle\n",
    "from sklearn.model_selection import GridSearchCV, TimeSeriesSplit\n",
    "from sklearn.model_selection import PredefinedSplit\n",
    "from sklearn.preprocessing import StandardScaler"
   ]
  },
  {
   "cell_type": "code",
   "execution_count": 119,
   "metadata": {
    "collapsed": true
   },
   "outputs": [],
   "source": [
    "def seed_to_int(seed):\n",
    "    '''\n",
    "    Input: Seed\n",
    "    Output: Get just the digits from the seeding. Return as int\n",
    "    '''\n",
    "    s_int = int(seed[1:3])\n",
    "    return s_int\n",
    "def merge_features(df,feature_list):\n",
    "    '''\n",
    "    Input: dataframe which contains Season and TeamID (ex. input df_seeds), list of dataframes with features \n",
    "    Output: dataframe with merged features\n",
    "    '''\n",
    "    for feature in feature_list:\n",
    "        if 'Season' in feature.columns:\n",
    "            df = pd.merge(left = df, right = feature, how = 'left', on = ['Season', 'TeamID'])\n",
    "        else:\n",
    "            df = pd.merge(left = df, right = feature, how = 'left', on = ['TeamID'])\n",
    "    return df\n",
    "def get_features(df_merge,df_team):\n",
    "    '''\n",
    "    Input:  dataframe from merge_features, dataframe which contains team1, team2, and year\n",
    "    Output: dataframe of merged features'''\n",
    "    df_1 = df_merge.rename(columns={'TeamID':'Team1'})\n",
    "    df_2 = df_merge.rename(columns={'TeamID':'Team2'})\n",
    "    df_dummy = pd.merge(left=df_team, right=df_1, how='left', on=['Season', 'Team1'])\n",
    "    df_concat = pd.merge(left=df_dummy, right=df_2, on=['Season', 'Team2'])\n",
    "    return df_concat\n",
    "def change_for_training(df_team):\n",
    "    '''\n",
    "    Input: dataframe\n",
    "    Output: renamed dataframe'''\n",
    "    df_team = df_team.rename(columns = {'WTeamID': 'Team1','LTeamID':'Team2'})\n",
    "    return df_team\n",
    "def get_seed_diff(df_final):\n",
    "    '''\n",
    "    Input: dataframe with seed of respective teams\n",
    "    Ouput: Dataframe with a column that contains difference in seeds\n",
    "    '''\n",
    "    df_final['SeedDiff'] = df_final['Seed_x']-df_final['Seed_y']\n",
    "    return df_final\n",
    "def D1diff(df):\n",
    "    '''\n",
    "    Input: Dataframe \n",
    "    Ouput: Difference in first d1 season for respective teams'''\n",
    "    df['D1diff'] = df['FirstD1Season_x']-df['FirstD1Season_y']\n",
    "    df = df.drop(['FirstD1Season_x','FirstD1Season_y'], axis=1)\n",
    "    return df\n",
    "def get_predictions(df, features):\n",
    "    '''\n",
    "    Input: dataframe of training dataset with all features, list of specific features we want from training data\n",
    "    Output: dataframe for training data\n",
    "    '''\n",
    "    df_wins = df[features]\n",
    "    df_wins['Result'] = 1\n",
    "    df_losses = df[features]\n",
    "    df_losses['SeedDiff'] = -df['SeedDiff']\n",
    "    df_losses['Result'] = 0\n",
    "    df_predictions = pd.concat((df_wins, df_losses))\n",
    "    return df_predictions"
   ]
  },
  {
   "cell_type": "code",
   "execution_count": 120,
   "metadata": {
    "collapsed": true
   },
   "outputs": [],
   "source": [
    "def get_regular_scores(year):\n",
    "    '''\n",
    "    Input: year\n",
    "    Output: wins in a year\n",
    "    '''\n",
    "    return pd.concat([regular[regular['Season'] == year][['TeamID2','LScore']],regular[regular['Season'] == year][['TeamID2','LScore']].rename(columns={'TeamID1':'TeamID2','WScore':'LScore'})], ignore_index=True)\n",
    "    "
   ]
  },
  {
   "cell_type": "markdown",
   "metadata": {},
   "source": [
    "# Get features \n",
    "    - For prediction I'm going to use seed difference between two teams, Difference between when a college became"
   ]
  },
  {
   "cell_type": "code",
   "execution_count": 121,
   "metadata": {
    "collapsed": true
   },
   "outputs": [],
   "source": [
    "data_dir = '../NCAA/DataFiles/'\n",
    "df_regular = pd.read_csv(data_dir + 'RegularSeasonCompactResults.csv')\n",
    "df_seeds = pd.read_csv(data_dir + 'NCAATourneySeeds.csv')\n",
    "df_tour = pd.read_csv(data_dir + 'NCAATourneyCompactResults.csv')\n",
    "df_conferences = pd.read_csv(data_dir + \"TeamConferences.csv\")\n",
    "df_coaches = pd.read_csv(data_dir + \"TeamCoaches.csv\")\n",
    "df_firstd1season = pd.read_csv(data_dir + \"Teams.csv\")"
   ]
  },
  {
   "cell_type": "code",
   "execution_count": 124,
   "metadata": {
    "collapsed": true
   },
   "outputs": [],
   "source": [
    "df_seeds['Seed'] = df_seeds.Seed.apply(seed_to_int)\n",
    "feature_list = [df_conferences, df_firstd1season]\n",
    "\n",
    "df_team = change_for_training(df_regular)\n",
    "\n",
    "df_team_val = change_for_training(df_tour)"
   ]
  },
  {
   "cell_type": "code",
   "execution_count": 125,
   "metadata": {
    "collapsed": true
   },
   "outputs": [],
   "source": [
    "df_merge = merge_features(df_seeds,feature_list)\n",
    "df_concat = get_features(df_merge,df_team)\n",
    "df_concat = df_concat.pipe(get_seed_diff).pipe(D1diff)\n",
    "\n",
    "df_concat_val = get_features(df_merge,df_team_val)\n",
    "df_concat_val = df_concat_val.pipe(get_seed_diff).pipe(D1diff)"
   ]
  },
  {
   "cell_type": "code",
   "execution_count": 126,
   "metadata": {
    "collapsed": true
   },
   "outputs": [],
   "source": [
    "winners = df_regular.rename( columns = { 'WTeamID' : 'TeamID1', 'LTeamID' : 'TeamID2'})\n",
    "losers = df_regular.rename( columns = { 'WTeamID' : 'TeamID2', 'LTeamID' : 'TeamID1'})\n",
    "\n",
    "regular = pd.concat( [winners, losers], axis = 0).reset_index(drop = True)\n",
    "\n",
    "winners_val = df_concat_val.rename( columns = { 'WTeamID' : 'TeamID1', 'LTeamID' : 'TeamID2'})\n",
    "winners_val['Result'] = 1.0\n",
    "\n",
    "losers_val= df_concat_val.rename( columns = { 'WTeamID' : 'TeamID2', 'LTeamID' : 'TeamID1'})\n",
    "losers_val['Result'] = 0.0\n",
    "losers_val['D1diff'] = winners_val['D1diff']*-1\n",
    "losers_val['SeedDiff'] = df_concat_val['SeedDiff']*-1\n",
    "\n",
    "playoff = pd.concat( [winners_val, losers_val], axis = 0).reset_index(drop = True)"
   ]
  },
  {
   "cell_type": "code",
   "execution_count": 127,
   "metadata": {},
   "outputs": [
    {
     "data": {
      "text/html": [
       "<div>\n",
       "<style>\n",
       "    .dataframe thead tr:only-child th {\n",
       "        text-align: right;\n",
       "    }\n",
       "\n",
       "    .dataframe thead th {\n",
       "        text-align: left;\n",
       "    }\n",
       "\n",
       "    .dataframe tbody tr th {\n",
       "        vertical-align: top;\n",
       "    }\n",
       "</style>\n",
       "<table border=\"1\" class=\"dataframe\">\n",
       "  <thead>\n",
       "    <tr style=\"text-align: right;\">\n",
       "      <th></th>\n",
       "      <th>Season</th>\n",
       "      <th>DayNum</th>\n",
       "      <th>Team1</th>\n",
       "      <th>WScore</th>\n",
       "      <th>Team2</th>\n",
       "      <th>LScore</th>\n",
       "      <th>WLoc</th>\n",
       "      <th>NumOT</th>\n",
       "      <th>Seed_x</th>\n",
       "      <th>ConfAbbrev_x</th>\n",
       "      <th>TeamName_x</th>\n",
       "      <th>LastD1Season_x</th>\n",
       "      <th>Seed_y</th>\n",
       "      <th>ConfAbbrev_y</th>\n",
       "      <th>TeamName_y</th>\n",
       "      <th>LastD1Season_y</th>\n",
       "      <th>SeedDiff</th>\n",
       "      <th>D1diff</th>\n",
       "      <th>Result</th>\n",
       "    </tr>\n",
       "  </thead>\n",
       "  <tbody>\n",
       "    <tr>\n",
       "      <th>0</th>\n",
       "      <td>1985</td>\n",
       "      <td>136</td>\n",
       "      <td>1116</td>\n",
       "      <td>63</td>\n",
       "      <td>1234</td>\n",
       "      <td>54</td>\n",
       "      <td>N</td>\n",
       "      <td>0</td>\n",
       "      <td>9</td>\n",
       "      <td>swc</td>\n",
       "      <td>Arkansas</td>\n",
       "      <td>2018</td>\n",
       "      <td>8</td>\n",
       "      <td>big_ten</td>\n",
       "      <td>Iowa</td>\n",
       "      <td>2018</td>\n",
       "      <td>1</td>\n",
       "      <td>0</td>\n",
       "      <td>1.0</td>\n",
       "    </tr>\n",
       "    <tr>\n",
       "      <th>1</th>\n",
       "      <td>1985</td>\n",
       "      <td>136</td>\n",
       "      <td>1120</td>\n",
       "      <td>59</td>\n",
       "      <td>1345</td>\n",
       "      <td>58</td>\n",
       "      <td>N</td>\n",
       "      <td>0</td>\n",
       "      <td>11</td>\n",
       "      <td>sec</td>\n",
       "      <td>Auburn</td>\n",
       "      <td>2018</td>\n",
       "      <td>6</td>\n",
       "      <td>big_ten</td>\n",
       "      <td>Purdue</td>\n",
       "      <td>2018</td>\n",
       "      <td>5</td>\n",
       "      <td>0</td>\n",
       "      <td>1.0</td>\n",
       "    </tr>\n",
       "    <tr>\n",
       "      <th>2</th>\n",
       "      <td>1985</td>\n",
       "      <td>136</td>\n",
       "      <td>1207</td>\n",
       "      <td>68</td>\n",
       "      <td>1250</td>\n",
       "      <td>43</td>\n",
       "      <td>N</td>\n",
       "      <td>0</td>\n",
       "      <td>1</td>\n",
       "      <td>big_east</td>\n",
       "      <td>Georgetown</td>\n",
       "      <td>2018</td>\n",
       "      <td>16</td>\n",
       "      <td>ecc</td>\n",
       "      <td>Lehigh</td>\n",
       "      <td>2018</td>\n",
       "      <td>-15</td>\n",
       "      <td>0</td>\n",
       "      <td>1.0</td>\n",
       "    </tr>\n",
       "    <tr>\n",
       "      <th>3</th>\n",
       "      <td>1985</td>\n",
       "      <td>136</td>\n",
       "      <td>1229</td>\n",
       "      <td>58</td>\n",
       "      <td>1425</td>\n",
       "      <td>55</td>\n",
       "      <td>N</td>\n",
       "      <td>0</td>\n",
       "      <td>9</td>\n",
       "      <td>mvc</td>\n",
       "      <td>Illinois St</td>\n",
       "      <td>2018</td>\n",
       "      <td>8</td>\n",
       "      <td>pac_ten</td>\n",
       "      <td>USC</td>\n",
       "      <td>2018</td>\n",
       "      <td>1</td>\n",
       "      <td>0</td>\n",
       "      <td>1.0</td>\n",
       "    </tr>\n",
       "    <tr>\n",
       "      <th>4</th>\n",
       "      <td>1985</td>\n",
       "      <td>136</td>\n",
       "      <td>1242</td>\n",
       "      <td>49</td>\n",
       "      <td>1325</td>\n",
       "      <td>38</td>\n",
       "      <td>N</td>\n",
       "      <td>0</td>\n",
       "      <td>3</td>\n",
       "      <td>big_eight</td>\n",
       "      <td>Kansas</td>\n",
       "      <td>2018</td>\n",
       "      <td>14</td>\n",
       "      <td>mac</td>\n",
       "      <td>Ohio</td>\n",
       "      <td>2018</td>\n",
       "      <td>-11</td>\n",
       "      <td>0</td>\n",
       "      <td>1.0</td>\n",
       "    </tr>\n",
       "  </tbody>\n",
       "</table>\n",
       "</div>"
      ],
      "text/plain": [
       "   Season  DayNum  Team1  WScore  Team2  LScore WLoc  NumOT  Seed_x  \\\n",
       "0    1985     136   1116      63   1234      54    N      0       9   \n",
       "1    1985     136   1120      59   1345      58    N      0      11   \n",
       "2    1985     136   1207      68   1250      43    N      0       1   \n",
       "3    1985     136   1229      58   1425      55    N      0       9   \n",
       "4    1985     136   1242      49   1325      38    N      0       3   \n",
       "\n",
       "  ConfAbbrev_x   TeamName_x  LastD1Season_x  Seed_y ConfAbbrev_y TeamName_y  \\\n",
       "0          swc     Arkansas            2018       8      big_ten       Iowa   \n",
       "1          sec       Auburn            2018       6      big_ten     Purdue   \n",
       "2     big_east   Georgetown            2018      16          ecc     Lehigh   \n",
       "3          mvc  Illinois St            2018       8      pac_ten        USC   \n",
       "4    big_eight       Kansas            2018      14          mac       Ohio   \n",
       "\n",
       "   LastD1Season_y  SeedDiff  D1diff  Result  \n",
       "0            2018         1       0     1.0  \n",
       "1            2018         5       0     1.0  \n",
       "2            2018       -15       0     1.0  \n",
       "3            2018         1       0     1.0  \n",
       "4            2018       -11       0     1.0  "
      ]
     },
     "execution_count": 127,
     "metadata": {},
     "output_type": "execute_result"
    }
   ],
   "source": [
    "playoff.head()"
   ]
  },
  {
   "cell_type": "code",
   "execution_count": 131,
   "metadata": {
    "collapsed": true
   },
   "outputs": [],
   "source": [
    "final = pd.DataFrame(columns = ['score_diff','D1diff','SeedDiff','Result'])\n",
    "for i in range(1985,2018):\n",
    "    current = get_regular_scores(i)\n",
    "    playoff_current = playoff[playoff['Season'] == i]\n",
    "    year_current = pd.DataFrame(get_regular_scores(i).groupby('TeamID2')['LScore'].mean())\n",
    "    year_current['TeamID2'] = year_current.index\n",
    "    playoff_current = pd.merge(playoff_current, year_current, left_on = \"Team1\", right_on = 'TeamID2')\n",
    "    playoff_current['Wscore_avg'] = playoff_current['LScore_y']\n",
    "    playoff_current = playoff_current.drop(['LScore_y','TeamID2'],axis=1)\n",
    "    playoff_current['LScore_avg'] = pd.merge(playoff_current, year_current, left_on = \"Team2\", right_on = 'TeamID2')['LScore']\n",
    "    playoff_current['score_diff'] = playoff_current['Wscore_avg']-playoff_current['LScore_avg']\n",
    "    final = pd.concat([final, playoff_current[['score_diff','D1diff','SeedDiff','Result','Seed_x','Seed_y']]])"
   ]
  },
  {
   "cell_type": "code",
   "execution_count": 135,
   "metadata": {},
   "outputs": [
    {
     "data": {
      "text/html": [
       "<div>\n",
       "<style>\n",
       "    .dataframe thead tr:only-child th {\n",
       "        text-align: right;\n",
       "    }\n",
       "\n",
       "    .dataframe thead th {\n",
       "        text-align: left;\n",
       "    }\n",
       "\n",
       "    .dataframe tbody tr th {\n",
       "        vertical-align: top;\n",
       "    }\n",
       "</style>\n",
       "<table border=\"1\" class=\"dataframe\">\n",
       "  <thead>\n",
       "    <tr style=\"text-align: right;\">\n",
       "      <th></th>\n",
       "      <th>D1diff</th>\n",
       "      <th>Result</th>\n",
       "      <th>SeedDiff</th>\n",
       "      <th>Seed_x</th>\n",
       "      <th>Seed_y</th>\n",
       "      <th>score_diff</th>\n",
       "    </tr>\n",
       "  </thead>\n",
       "  <tbody>\n",
       "    <tr>\n",
       "      <th>0</th>\n",
       "      <td>0</td>\n",
       "      <td>1.0</td>\n",
       "      <td>1</td>\n",
       "      <td>9.0</td>\n",
       "      <td>8.0</td>\n",
       "      <td>1.324242</td>\n",
       "    </tr>\n",
       "    <tr>\n",
       "      <th>1</th>\n",
       "      <td>0</td>\n",
       "      <td>0.0</td>\n",
       "      <td>-1</td>\n",
       "      <td>9.0</td>\n",
       "      <td>8.0</td>\n",
       "      <td>1.324242</td>\n",
       "    </tr>\n",
       "    <tr>\n",
       "      <th>2</th>\n",
       "      <td>0</td>\n",
       "      <td>1.0</td>\n",
       "      <td>5</td>\n",
       "      <td>11.0</td>\n",
       "      <td>6.0</td>\n",
       "      <td>2.400000</td>\n",
       "    </tr>\n",
       "    <tr>\n",
       "      <th>3</th>\n",
       "      <td>0</td>\n",
       "      <td>1.0</td>\n",
       "      <td>8</td>\n",
       "      <td>11.0</td>\n",
       "      <td>3.0</td>\n",
       "      <td>2.400000</td>\n",
       "    </tr>\n",
       "    <tr>\n",
       "      <th>4</th>\n",
       "      <td>0</td>\n",
       "      <td>0.0</td>\n",
       "      <td>-5</td>\n",
       "      <td>11.0</td>\n",
       "      <td>6.0</td>\n",
       "      <td>-5.333333</td>\n",
       "    </tr>\n",
       "  </tbody>\n",
       "</table>\n",
       "</div>"
      ],
      "text/plain": [
       "  D1diff  Result SeedDiff  Seed_x  Seed_y  score_diff\n",
       "0      0     1.0        1     9.0     8.0    1.324242\n",
       "1      0     0.0       -1     9.0     8.0    1.324242\n",
       "2      0     1.0        5    11.0     6.0    2.400000\n",
       "3      0     1.0        8    11.0     3.0    2.400000\n",
       "4      0     0.0       -5    11.0     6.0   -5.333333"
      ]
     },
     "execution_count": 135,
     "metadata": {},
     "output_type": "execute_result"
    }
   ],
   "source": [
    "final.head()"
   ]
  },
  {
   "cell_type": "code",
   "execution_count": 154,
   "metadata": {
    "collapsed": true
   },
   "outputs": [],
   "source": [
    "X_train = final.drop('Result',axis=1).values\n",
    "y_train = final.Result.values\n",
    "X_train, y_train = shuffle(X_train, y_train)"
   ]
  },
  {
   "cell_type": "code",
   "execution_count": 155,
   "metadata": {},
   "outputs": [
    {
     "name": "stdout",
     "output_type": "stream",
     "text": [
      "Best log_loss: -0.5538, with best C: 0.001\n"
     ]
    }
   ],
   "source": [
    "logreg = LogisticRegression()\n",
    "params = {'C': np.logspace(start=-5, stop=3, num=9)}\n",
    "clf = GridSearchCV(logreg, params, scoring='neg_log_loss', refit=True)\n",
    "clf.fit(X_train, y_train)\n",
    "print('Best log_loss: {:.4}, with best C: {}'.format(clf.best_score_, clf.best_params_['C']))"
   ]
  },
  {
   "cell_type": "markdown",
   "metadata": {
    "collapsed": true
   },
   "source": [
    "# Test set"
   ]
  },
  {
   "cell_type": "code",
   "execution_count": 137,
   "metadata": {
    "collapsed": true
   },
   "outputs": [],
   "source": [
    "df_sample_sub = pd.read_csv('SampleSubmissionStage2.csv')\n",
    "df_sample_sub['Season'] = df_sample_sub['ID'].apply(lambda x : int(x.split('_')[0]) )\n",
    "df_sample_sub['Team1'] = df_sample_sub['ID'].apply(lambda x : int(x.split('_')[1]) )\n",
    "df_sample_sub['Team2'] = df_sample_sub['ID'].apply(lambda x : int(x.split('_')[2]) )"
   ]
  },
  {
   "cell_type": "code",
   "execution_count": 140,
   "metadata": {
    "collapsed": true
   },
   "outputs": [],
   "source": [
    "data_dir = '../NCAA/Stage2UpdatedDataFiles/'\n",
    "df_regular = pd.read_csv(data_dir + 'RegularSeasonCompactResults.csv')\n",
    "df_seeds = pd.read_csv(data_dir + 'NCAATourneySeeds.csv')\n"
   ]
  },
  {
   "cell_type": "code",
   "execution_count": 141,
   "metadata": {
    "collapsed": true
   },
   "outputs": [],
   "source": [
    "winners = df_regular.rename( columns = { 'WTeamID' : 'TeamID1', 'LTeamID' : 'TeamID2'})\n",
    "losers = df_regular.rename( columns = { 'WTeamID' : 'TeamID2', 'LTeamID' : 'TeamID1'})\n",
    "\n",
    "regular = pd.concat( [winners, losers], axis = 0).reset_index(drop = True)"
   ]
  },
  {
   "cell_type": "code",
   "execution_count": 142,
   "metadata": {
    "collapsed": true
   },
   "outputs": [],
   "source": [
    "df_seeds['Seed'] = df_seeds.Seed.apply(seed_to_int)\n",
    "df_merge = merge_features(df_seeds,feature_list)"
   ]
  },
  {
   "cell_type": "code",
   "execution_count": 143,
   "metadata": {},
   "outputs": [
    {
     "data": {
      "text/html": [
       "<div>\n",
       "<style>\n",
       "    .dataframe thead tr:only-child th {\n",
       "        text-align: right;\n",
       "    }\n",
       "\n",
       "    .dataframe thead th {\n",
       "        text-align: left;\n",
       "    }\n",
       "\n",
       "    .dataframe tbody tr th {\n",
       "        vertical-align: top;\n",
       "    }\n",
       "</style>\n",
       "<table border=\"1\" class=\"dataframe\">\n",
       "  <thead>\n",
       "    <tr style=\"text-align: right;\">\n",
       "      <th></th>\n",
       "      <th>ID</th>\n",
       "      <th>Pred</th>\n",
       "      <th>Season</th>\n",
       "      <th>Team1</th>\n",
       "      <th>Team2</th>\n",
       "      <th>Seed_x</th>\n",
       "      <th>ConfAbbrev_x</th>\n",
       "      <th>TeamName_x</th>\n",
       "      <th>LastD1Season_x</th>\n",
       "      <th>Seed_y</th>\n",
       "      <th>ConfAbbrev_y</th>\n",
       "      <th>TeamName_y</th>\n",
       "      <th>LastD1Season_y</th>\n",
       "      <th>SeedDiff</th>\n",
       "      <th>D1diff</th>\n",
       "    </tr>\n",
       "  </thead>\n",
       "  <tbody>\n",
       "    <tr>\n",
       "      <th>0</th>\n",
       "      <td>2018_1104_1112</td>\n",
       "      <td>0.5</td>\n",
       "      <td>2018</td>\n",
       "      <td>1104</td>\n",
       "      <td>1112</td>\n",
       "      <td>9</td>\n",
       "      <td>sec</td>\n",
       "      <td>Alabama</td>\n",
       "      <td>2018</td>\n",
       "      <td>4</td>\n",
       "      <td>pac_twelve</td>\n",
       "      <td>Arizona</td>\n",
       "      <td>2018</td>\n",
       "      <td>5</td>\n",
       "      <td>0</td>\n",
       "    </tr>\n",
       "    <tr>\n",
       "      <th>1</th>\n",
       "      <td>2018_1104_1113</td>\n",
       "      <td>0.5</td>\n",
       "      <td>2018</td>\n",
       "      <td>1104</td>\n",
       "      <td>1113</td>\n",
       "      <td>9</td>\n",
       "      <td>sec</td>\n",
       "      <td>Alabama</td>\n",
       "      <td>2018</td>\n",
       "      <td>11</td>\n",
       "      <td>pac_twelve</td>\n",
       "      <td>Arizona St</td>\n",
       "      <td>2018</td>\n",
       "      <td>-2</td>\n",
       "      <td>0</td>\n",
       "    </tr>\n",
       "    <tr>\n",
       "      <th>2</th>\n",
       "      <td>2018_1112_1113</td>\n",
       "      <td>0.5</td>\n",
       "      <td>2018</td>\n",
       "      <td>1112</td>\n",
       "      <td>1113</td>\n",
       "      <td>4</td>\n",
       "      <td>pac_twelve</td>\n",
       "      <td>Arizona</td>\n",
       "      <td>2018</td>\n",
       "      <td>11</td>\n",
       "      <td>pac_twelve</td>\n",
       "      <td>Arizona St</td>\n",
       "      <td>2018</td>\n",
       "      <td>-7</td>\n",
       "      <td>0</td>\n",
       "    </tr>\n",
       "    <tr>\n",
       "      <th>3</th>\n",
       "      <td>2018_1104_1116</td>\n",
       "      <td>0.5</td>\n",
       "      <td>2018</td>\n",
       "      <td>1104</td>\n",
       "      <td>1116</td>\n",
       "      <td>9</td>\n",
       "      <td>sec</td>\n",
       "      <td>Alabama</td>\n",
       "      <td>2018</td>\n",
       "      <td>7</td>\n",
       "      <td>sec</td>\n",
       "      <td>Arkansas</td>\n",
       "      <td>2018</td>\n",
       "      <td>2</td>\n",
       "      <td>0</td>\n",
       "    </tr>\n",
       "    <tr>\n",
       "      <th>4</th>\n",
       "      <td>2018_1112_1116</td>\n",
       "      <td>0.5</td>\n",
       "      <td>2018</td>\n",
       "      <td>1112</td>\n",
       "      <td>1116</td>\n",
       "      <td>4</td>\n",
       "      <td>pac_twelve</td>\n",
       "      <td>Arizona</td>\n",
       "      <td>2018</td>\n",
       "      <td>7</td>\n",
       "      <td>sec</td>\n",
       "      <td>Arkansas</td>\n",
       "      <td>2018</td>\n",
       "      <td>-3</td>\n",
       "      <td>0</td>\n",
       "    </tr>\n",
       "  </tbody>\n",
       "</table>\n",
       "</div>"
      ],
      "text/plain": [
       "               ID  Pred  Season  Team1  Team2  Seed_x ConfAbbrev_x TeamName_x  \\\n",
       "0  2018_1104_1112   0.5    2018   1104   1112       9          sec    Alabama   \n",
       "1  2018_1104_1113   0.5    2018   1104   1113       9          sec    Alabama   \n",
       "2  2018_1112_1113   0.5    2018   1112   1113       4   pac_twelve    Arizona   \n",
       "3  2018_1104_1116   0.5    2018   1104   1116       9          sec    Alabama   \n",
       "4  2018_1112_1116   0.5    2018   1112   1116       4   pac_twelve    Arizona   \n",
       "\n",
       "   LastD1Season_x  Seed_y ConfAbbrev_y  TeamName_y  LastD1Season_y  SeedDiff  \\\n",
       "0            2018       4   pac_twelve     Arizona            2018         5   \n",
       "1            2018      11   pac_twelve  Arizona St            2018        -2   \n",
       "2            2018      11   pac_twelve  Arizona St            2018        -7   \n",
       "3            2018       7          sec    Arkansas            2018         2   \n",
       "4            2018       7          sec    Arkansas            2018        -3   \n",
       "\n",
       "   D1diff  \n",
       "0       0  \n",
       "1       0  \n",
       "2       0  \n",
       "3       0  \n",
       "4       0  "
      ]
     },
     "execution_count": 143,
     "metadata": {},
     "output_type": "execute_result"
    }
   ],
   "source": [
    "#Merging important features\n",
    "\n",
    "df_concat_test = get_features(df_merge,df_sample_sub)\n",
    "\n",
    "#Feature engineering\n",
    "\n",
    "df_concat_test = df_concat_test.pipe(get_seed_diff).pipe(D1diff)\n",
    "\n",
    "df_concat_test.head()"
   ]
  },
  {
   "cell_type": "code",
   "execution_count": 148,
   "metadata": {
    "collapsed": true
   },
   "outputs": [],
   "source": [
    "final_test = pd.DataFrame(columns = ['score_diff','D1diff','SeedDiff'])\n",
    "\n",
    "current = get_regular_scores(2018)\n",
    "playoff_current = df_concat_test[df_concat_test['Season'] == 2018]\n",
    "year_current = pd.DataFrame(get_regular_scores(2018).groupby('TeamID2')['LScore'].mean())\n",
    "year_current['TeamID2'] = year_current.index\n",
    "playoff_current = pd.merge(playoff_current, year_current, left_on = \"Team1\", right_on = 'TeamID2')\n",
    "playoff_current['Wscore_avg'] = playoff_current['LScore']\n",
    "playoff_current = playoff_current.drop(['LScore','TeamID2'],axis=1)\n",
    "playoff_current['LScore_avg'] = pd.merge(playoff_current, year_current, left_on = \"Team2\", right_on = 'TeamID2')['LScore']\n",
    "playoff_current['score_diff'] = playoff_current['Wscore_avg']-playoff_current['LScore_avg']\n",
    "final_test = pd.concat([final_test, playoff_current[['score_diff','D1diff','SeedDiff','Seed_x','Seed_y']]])\n"
   ]
  },
  {
   "cell_type": "code",
   "execution_count": 149,
   "metadata": {},
   "outputs": [
    {
     "data": {
      "text/html": [
       "<div>\n",
       "<style>\n",
       "    .dataframe thead tr:only-child th {\n",
       "        text-align: right;\n",
       "    }\n",
       "\n",
       "    .dataframe thead th {\n",
       "        text-align: left;\n",
       "    }\n",
       "\n",
       "    .dataframe tbody tr th {\n",
       "        vertical-align: top;\n",
       "    }\n",
       "</style>\n",
       "<table border=\"1\" class=\"dataframe\">\n",
       "  <thead>\n",
       "    <tr style=\"text-align: right;\">\n",
       "      <th></th>\n",
       "      <th>D1diff</th>\n",
       "      <th>SeedDiff</th>\n",
       "      <th>Seed_x</th>\n",
       "      <th>Seed_y</th>\n",
       "      <th>score_diff</th>\n",
       "    </tr>\n",
       "  </thead>\n",
       "  <tbody>\n",
       "    <tr>\n",
       "      <th>0</th>\n",
       "      <td>0</td>\n",
       "      <td>5</td>\n",
       "      <td>9.0</td>\n",
       "      <td>4.0</td>\n",
       "      <td>-4.058824</td>\n",
       "    </tr>\n",
       "    <tr>\n",
       "      <th>1</th>\n",
       "      <td>0</td>\n",
       "      <td>-2</td>\n",
       "      <td>9.0</td>\n",
       "      <td>11.0</td>\n",
       "      <td>-7.722960</td>\n",
       "    </tr>\n",
       "    <tr>\n",
       "      <th>2</th>\n",
       "      <td>0</td>\n",
       "      <td>2</td>\n",
       "      <td>9.0</td>\n",
       "      <td>7.0</td>\n",
       "      <td>-7.722960</td>\n",
       "    </tr>\n",
       "    <tr>\n",
       "      <th>3</th>\n",
       "      <td>0</td>\n",
       "      <td>5</td>\n",
       "      <td>9.0</td>\n",
       "      <td>4.0</td>\n",
       "      <td>-5.352941</td>\n",
       "    </tr>\n",
       "    <tr>\n",
       "      <th>4</th>\n",
       "      <td>0</td>\n",
       "      <td>-5</td>\n",
       "      <td>9.0</td>\n",
       "      <td>14.0</td>\n",
       "      <td>-5.352941</td>\n",
       "    </tr>\n",
       "  </tbody>\n",
       "</table>\n",
       "</div>"
      ],
      "text/plain": [
       "  D1diff SeedDiff  Seed_x  Seed_y  score_diff\n",
       "0      0        5     9.0     4.0   -4.058824\n",
       "1      0       -2     9.0    11.0   -7.722960\n",
       "2      0        2     9.0     7.0   -7.722960\n",
       "3      0        5     9.0     4.0   -5.352941\n",
       "4      0       -5     9.0    14.0   -5.352941"
      ]
     },
     "execution_count": 149,
     "metadata": {},
     "output_type": "execute_result"
    }
   ],
   "source": [
    "final_test.head()"
   ]
  },
  {
   "cell_type": "markdown",
   "metadata": {},
   "source": [
    "# Predict on Test Set"
   ]
  },
  {
   "cell_type": "code",
   "execution_count": 77,
   "metadata": {},
   "outputs": [
    {
     "data": {
      "text/plain": [
       "2278"
      ]
     },
     "execution_count": 77,
     "metadata": {},
     "output_type": "execute_result"
    }
   ],
   "source": [
    "len(df_sample_sub)"
   ]
  },
  {
   "cell_type": "code",
   "execution_count": 156,
   "metadata": {},
   "outputs": [
    {
     "data": {
      "text/html": [
       "<div>\n",
       "<style>\n",
       "    .dataframe thead tr:only-child th {\n",
       "        text-align: right;\n",
       "    }\n",
       "\n",
       "    .dataframe thead th {\n",
       "        text-align: left;\n",
       "    }\n",
       "\n",
       "    .dataframe tbody tr th {\n",
       "        vertical-align: top;\n",
       "    }\n",
       "</style>\n",
       "<table border=\"1\" class=\"dataframe\">\n",
       "  <thead>\n",
       "    <tr style=\"text-align: right;\">\n",
       "      <th></th>\n",
       "      <th>ID</th>\n",
       "      <th>Pred</th>\n",
       "      <th>Season</th>\n",
       "      <th>Team1</th>\n",
       "      <th>Team2</th>\n",
       "    </tr>\n",
       "  </thead>\n",
       "  <tbody>\n",
       "    <tr>\n",
       "      <th>0</th>\n",
       "      <td>2018_1104_1112</td>\n",
       "      <td>0.303366</td>\n",
       "      <td>2018</td>\n",
       "      <td>1104</td>\n",
       "      <td>1112</td>\n",
       "    </tr>\n",
       "    <tr>\n",
       "      <th>1</th>\n",
       "      <td>2018_1104_1113</td>\n",
       "      <td>0.569454</td>\n",
       "      <td>2018</td>\n",
       "      <td>1104</td>\n",
       "      <td>1113</td>\n",
       "    </tr>\n",
       "    <tr>\n",
       "      <th>2</th>\n",
       "      <td>2018_1104_1116</td>\n",
       "      <td>0.409278</td>\n",
       "      <td>2018</td>\n",
       "      <td>1104</td>\n",
       "      <td>1116</td>\n",
       "    </tr>\n",
       "    <tr>\n",
       "      <th>3</th>\n",
       "      <td>2018_1104_1120</td>\n",
       "      <td>0.301833</td>\n",
       "      <td>2018</td>\n",
       "      <td>1104</td>\n",
       "      <td>1120</td>\n",
       "    </tr>\n",
       "    <tr>\n",
       "      <th>4</th>\n",
       "      <td>2018_1104_1137</td>\n",
       "      <td>0.685219</td>\n",
       "      <td>2018</td>\n",
       "      <td>1104</td>\n",
       "      <td>1137</td>\n",
       "    </tr>\n",
       "  </tbody>\n",
       "</table>\n",
       "</div>"
      ],
      "text/plain": [
       "               ID      Pred  Season  Team1  Team2\n",
       "0  2018_1104_1112  0.303366    2018   1104   1112\n",
       "1  2018_1104_1113  0.569454    2018   1104   1113\n",
       "2  2018_1104_1116  0.409278    2018   1104   1116\n",
       "3  2018_1104_1120  0.301833    2018   1104   1120\n",
       "4  2018_1104_1137  0.685219    2018   1104   1137"
      ]
     },
     "execution_count": 156,
     "metadata": {},
     "output_type": "execute_result"
    }
   ],
   "source": [
    "preds = clf.predict_proba(final_test.values)[:,1]\n",
    "clipped_preds = np.clip(preds, 0.05, 0.95)\n",
    "df_sample_sub['Pred'] = clipped_preds\n",
    "df_sample_sub.head()"
   ]
  },
  {
   "cell_type": "code",
   "execution_count": 157,
   "metadata": {
    "collapsed": true
   },
   "outputs": [],
   "source": [
    "df_sample_sub = df_sample_sub.drop(['Season','Team1','Team2'],axis=1)"
   ]
  },
  {
   "cell_type": "code",
   "execution_count": 158,
   "metadata": {
    "collapsed": true
   },
   "outputs": [],
   "source": [
    "df_sample_sub.to_csv('logreg_final.csv', index=False)"
   ]
  },
  {
   "cell_type": "code",
   "execution_count": null,
   "metadata": {
    "collapsed": true
   },
   "outputs": [],
   "source": []
  }
 ],
 "metadata": {
  "kernelspec": {
   "display_name": "Python 3",
   "language": "python",
   "name": "python3"
  },
  "language_info": {
   "codemirror_mode": {
    "name": "ipython",
    "version": 3
   },
   "file_extension": ".py",
   "mimetype": "text/x-python",
   "name": "python",
   "nbconvert_exporter": "python",
   "pygments_lexer": "ipython3",
   "version": "3.6.3"
  }
 },
 "nbformat": 4,
 "nbformat_minor": 2
}
